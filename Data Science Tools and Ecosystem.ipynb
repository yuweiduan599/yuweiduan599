{
 "cells": [
  {
   "cell_type": "markdown",
   "id": "055e46ac",
   "metadata": {},
   "source": [
    "# Data Science Tools and Ecosystem"
   ]
  },
  {
   "cell_type": "markdown",
   "id": "34b8e2f9",
   "metadata": {},
   "source": [
    "## In this notebook, Data Science Tools and Ecosystem are summarized"
   ]
  },
  {
   "cell_type": "markdown",
   "id": "d45ad540",
   "metadata": {},
   "source": [
    "### ***Some of the popular languages that Data Scientists use are:***\n",
    "1. Python\n",
    "2. R \n",
    "3. SQL\n",
    "4. Scala\n",
    "5. Julia"
   ]
  },
  {
   "cell_type": "markdown",
   "id": "b57667db",
   "metadata": {},
   "source": [
    "### **Objectives:**\n",
    "-  Know what are the data science language\n",
    "-  Know what are the data tools\n",
    "-  Know how to use Python"
   ]
  },
  {
   "cell_type": "markdown",
   "id": "22def9a4",
   "metadata": {},
   "source": [
    "### ***Some of the commonly used libraries used by Data Scientists include:***\n",
    "1. GGplot2\n",
    "2. Dyplyr\n",
    "3. Scikitlearn\n",
    "4. Pandas\n",
    "5. Numpy"
   ]
  },
  {
   "cell_type": "markdown",
   "id": "c2fa3a3c",
   "metadata": {},
   "source": [
    "|Data Science Tools|\n",
    "--------------------\n",
    "|GGplot2|\n",
    "|Dyplyr|\n",
    "|Scikitlearn|\n",
    "|Pandas|\n",
    "|Numpy|"
   ]
  },
  {
   "cell_type": "markdown",
   "id": "97f71541",
   "metadata": {},
   "source": [
    "### Below are a few examples of evaluating arithmetic expressions in Python"
   ]
  },
  {
   "cell_type": "code",
   "execution_count": 4,
   "id": "a8290a5d",
   "metadata": {},
   "outputs": [],
   "source": [
    "#  This a simple arithmetic expression to mutiply then add integers"
   ]
  },
  {
   "cell_type": "code",
   "execution_count": 5,
   "id": "0b044095",
   "metadata": {},
   "outputs": [
    {
     "data": {
      "text/plain": [
       "17"
      ]
     },
     "execution_count": 5,
     "metadata": {},
     "output_type": "execute_result"
    }
   ],
   "source": [
    "(3*4)+5"
   ]
  },
  {
   "cell_type": "code",
   "execution_count": 6,
   "id": "d2fdcca0",
   "metadata": {},
   "outputs": [],
   "source": [
    "# This will convert 200 minutes to hours by diving by 60"
   ]
  },
  {
   "cell_type": "code",
   "execution_count": 9,
   "id": "0ed13580",
   "metadata": {},
   "outputs": [
    {
     "name": "stdout",
     "output_type": "stream",
     "text": [
      "3.3333333333333335 hours\n"
     ]
    }
   ],
   "source": [
    "print(200/60,'hours') "
   ]
  },
  {
   "cell_type": "markdown",
   "id": "4838b795",
   "metadata": {},
   "source": [
    "## Author\n",
    "Robin Duan"
   ]
  },
  {
   "cell_type": "code",
   "execution_count": null,
   "id": "20332061",
   "metadata": {},
   "outputs": [],
   "source": []
  }
 ],
 "metadata": {
  "kernelspec": {
   "display_name": "Python 3 (ipykernel)",
   "language": "python",
   "name": "python3"
  },
  "language_info": {
   "codemirror_mode": {
    "name": "ipython",
    "version": 3
   },
   "file_extension": ".py",
   "mimetype": "text/x-python",
   "name": "python",
   "nbconvert_exporter": "python",
   "pygments_lexer": "ipython3",
   "version": "3.9.7"
  }
 },
 "nbformat": 4,
 "nbformat_minor": 5
}
